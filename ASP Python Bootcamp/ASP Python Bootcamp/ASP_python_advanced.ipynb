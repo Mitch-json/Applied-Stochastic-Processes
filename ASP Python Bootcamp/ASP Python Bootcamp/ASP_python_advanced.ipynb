{
 "cells": [
  {
   "cell_type": "markdown",
   "id": "71c4d70f",
   "metadata": {},
   "source": [
    "## Stochastic Processes with Python: Numerical Tools & Distributions\n",
    "\n",
    "**Goal:** In this notebook we'll dive into the numerical Python ecosystem used in stochastic modelling. Here, we cover:\n",
    "\n",
    "- Random Seed\n",
    "- NumPy fundamentals\n",
    "- Pandas fundamentals\n",
    "- Matplotlib fundamentals\n",
    "- SciPy statistics and interpolation\n",
    "- Basic statistical summaries: mean, variance, std, covariance\n",
    "- Sampling from Bernoulli, Binomial, Geometric, Poisson, and Gaussian (Normal) distributions\n",
    "- Practical Examples \n"
   ]
  },
  {
   "cell_type": "markdown",
   "id": "21857ce0",
   "metadata": {},
   "source": [
    "### Random Seed (Setup and reproducibility) \n",
    "\n",
    "Reproducibility is important in simulations. Here, we show how to set random seed.\n",
    "\n",
    "- A random seed is an initial value used by a random number generator to ensure that the sequence of generated random numbers is reproducible.\n",
    "\n",
    "- The key difference between python's random seed and that of numpy (np) is that np.random.seed() controls NumPy’s independent random number generator (optimized for arrays and scientific computing), while python's random.seed() controls Python’s built-in random module (better for simple randomization in general-purpose tasks)"
   ]
  },
  {
   "cell_type": "code",
   "execution_count": 1,
   "id": "c2b9870c",
   "metadata": {},
   "outputs": [
    {
     "name": "stdout",
     "output_type": "stream",
     "text": [
      "NumPy RNG and python random seeded with 42\n",
      "NumPy draw: [0.37454012 0.95071431 0.73199394]\n",
      "Python random draw: [0.6394267984578837, 0.025010755222666936, 0.27502931836911926]\n"
     ]
    }
   ],
   "source": [
    "import numpy as np\n",
    "import random\n",
    "import time\n",
    "\n",
    "# Set seeds for reproducibility\n",
    "np.random.seed(42)   # NumPy random seed\n",
    "random.seed(42)      # python's random module\n",
    "\n",
    "print('NumPy RNG and python random seeded with 42')\n",
    "\n",
    "# Demonstrate reproducible draws\n",
    "print('NumPy draw:', np.random.rand(3))\n",
    "print('Python random draw:', [random.random() for _ in range(3)])"
   ]
  },
  {
   "cell_type": "markdown",
   "id": "5ddd3c01",
   "metadata": {},
   "source": [
    "_**Note**: The value 42 is often used as a random seed because it’s a joke/reference from Douglas Adams’ book The Hitchhiker’s Guide to the Galaxy, where “42” is the “Answer to the Ultimate Question of Life, the Universe, and Everything”_\n",
    "\n",
    "_In practice, the seed can be any integer. Using 42 is just a fun, memorable convention adopted by engineers and data scientists._"
   ]
  },
  {
   "cell_type": "markdown",
   "id": "29b0f65d",
   "metadata": {},
   "source": [
    "## NumPy basics: arrays, vectorized ops, statistics\n",
    "\n",
    "- NumPy arrays are the workhorse for numerical computations. Vectorized operations are fast and concise.\n",
    "\n",
    "_(NumPy provides a multidimensional array object, various derived objects (such as masked arrays and matrices), and an assortment of routines for fast operations on arrays, including mathematical, logical, shape manipulation, sorting, selecting, I/O, discrete Fourier transforms, basic linear algebra, basic statistical operations, random simulation and much more)_\n",
    "\n",
    "(You can do a lot with NumPy, learn more from here - https://numpy.org/doc/2.3/)"
   ]
  },
  {
   "cell_type": "code",
   "execution_count": 2,
   "id": "c5acd10c",
   "metadata": {},
   "outputs": [
    {
     "name": "stdout",
     "output_type": "stream",
     "text": [
      "a: [1 2 3 4]\n",
      "b: [0.   0.25 0.5  0.75 1.  ]\n",
      "a + 2: [3 4 5 6]\n",
      "Elementwise product a * a: [ 1  4  9 16]\n",
      "c * a (broadcast):\n",
      "[[ 1  2  3  4]\n",
      " [ 2  4  6  8]\n",
      " [ 3  6  9 12]]\n",
      "Mean (big): -0.000718374244638373\n",
      "Var (big): 1.0036657660585389\n",
      "Std (big): 1.001831206370883\n"
     ]
    }
   ],
   "source": [
    "import numpy as np\n",
    "\n",
    "# Create arrays\n",
    "a = np.array([1,2,3,4])\n",
    "b = np.linspace(0,1,5)  # evenly spaced\n",
    "\n",
    "print('a:', a)\n",
    "print('b:', b)\n",
    "\n",
    "# Vectorized ops\n",
    "print('a + 2:', a + 2)\n",
    "print('Elementwise product a * a:', a * a)\n",
    "\n",
    "# Broadcasting example\n",
    "c = np.array([[1],[2],[3]])\n",
    "print('c * a (broadcast):')\n",
    "print(c * a)\n",
    "\n",
    "# Statistical functions\n",
    "big = np.random.normal(loc=0, scale=1, size=100000) # Sampling from a random Gaussian/Normal distribution\n",
    "print('Mean (big):', big.mean()) # Mean\n",
    "print('Var (big):', big.var()) # Variance\n",
    "print('Std (big):', big.std()) # Standard Deviation"
   ]
  },
  {
   "cell_type": "markdown",
   "id": "c82b2409",
   "metadata": {},
   "source": [
    "## Pandas: tabular data and group summaries\n",
    "\n",
    "Pandas builds on NumPy to provide labeled, tabular data. It is useful for storing simulation outputs and computing group statistics in Stochastic processes.\n",
    "\n",
    "(You can use pandas to import, manipulate and analyze data, findout about its different use cases and APIs here - https://pandas.pydata.org/docs/)"
   ]
  },
  {
   "cell_type": "code",
   "execution_count": 3,
   "id": "e3021786",
   "metadata": {},
   "outputs": [
    {
     "name": "stdout",
     "output_type": "stream",
     "text": [
      "DataFrame shape: (50, 4)\n",
      "\n",
      "First few rows of DataFrame:\n",
      "   server1  server2  server3  time_slot\n",
      "0        2        1        2          0\n",
      "1        1        1        2          1\n",
      "2        0        3        2          2\n",
      "3        1        3        1          3\n",
      "4        2        5        1          4\n",
      "\n",
      "Column means:\n",
      "server1    1.84\n",
      "server2    4.04\n",
      "server3    1.00\n",
      "dtype: float64\n",
      "\n",
      "Busy slots on server2 (first 10):\n",
      "   time_slot  server2  busy_server2\n",
      "0          0        1         False\n",
      "1          1        1         False\n",
      "2          2        3         False\n",
      "3          3        3         False\n",
      "4          4        5         False\n",
      "5          5        4         False\n",
      "6          6        1         False\n",
      "7          7        6          True\n",
      "8          8        4         False\n",
      "9          9        4         False\n"
     ]
    }
   ],
   "source": [
    "import pandas as pd\n",
    "\n",
    "# Lets create DataFrame of simulated arrivals (Poisson) across 3 servers\n",
    "np.random.seed(1)\n",
    "arrivals_server1 = np.random.poisson(lam=2, size=50) # Poisson arrivals with different rates, lam represents average rate, \n",
    "                                                        # size is number of samples\n",
    "arrivals_server2 = np.random.poisson(lam=4, size=50)\n",
    "arrivals_server3 = np.random.poisson(lam=1, size=50)\n",
    "\n",
    "df = pd.DataFrame({\n",
    "    'server1': arrivals_server1,\n",
    "    'server2': arrivals_server2,\n",
    "    'server3': arrivals_server3\n",
    "}) # A DataFrame is a data structure with columns of potentially different types, helps in data manipulation and analysis\n",
    "\n",
    "# Add a time index (discrete time slots)\n",
    "df['time_slot'] = np.arange(len(df)) # Adding a time_slot column with sequential integers to represent discrete time slots\n",
    "# Print out new shape of the DataFrame\n",
    "print('DataFrame shape:', df.shape)\n",
    "\n",
    "# Print first few rows\n",
    "print('\\nFirst few rows of DataFrame:')\n",
    "print(df.head())\n",
    "\n",
    "# Summary statistics\n",
    "print('\\nColumn means:')\n",
    "print(df[['server1','server2','server3']].mean())\n",
    "\n",
    "# Grouping example: categorize busy slots\n",
    "df['busy_server2'] = df['server2'] > 5\n",
    "print('\\nBusy slots on server2 (first 10):')\n",
    "print(df[['time_slot','server2','busy_server2']].head(10))"
   ]
  },
  {
   "cell_type": "markdown",
   "id": "58fe9111",
   "metadata": {},
   "source": [
    "## Basic statistics: mean, variance, covariance, standard deviation\n",
    "\n",
    "Compute sample statistics from arrays and DataFrames. Covariance helps measure joint variability between series\n"
   ]
  },
  {
   "cell_type": "code",
   "execution_count": 4,
   "id": "8e6fb645",
   "metadata": {},
   "outputs": [
    {
     "name": "stdout",
     "output_type": "stream",
     "text": [
      "mean x, y: 0.03754516397318247 0.016457563338372137\n",
      "variance x, y: 0.9643925126524084 0.5098040126134384\n",
      "std x, y: 0.9820348836229844 0.714005611051789\n",
      "\n",
      "Covariance matrix:\n",
      " [[0.96439251 0.48384042]\n",
      " [0.48384042 0.50980401]]\n",
      "\n",
      "Cov(x,y)= 0.48384041703399844\n"
     ]
    }
   ],
   "source": [
    "import numpy as np\n",
    "\n",
    "x = np.random.normal(0, 1, size=1000)\n",
    "y = 0.5 * x + np.random.normal(0, 0.5, size=1000) # Formular for a simple linear regression relationship (slope = 0.5) \n",
    "                                                    # with additive Gaussian noise of mean 0 and standard deviation 0.5\n",
    "\n",
    "print('mean x, y:', x.mean(), y.mean())\n",
    "print('variance x, y:', x.var(ddof=1), y.var(ddof=1)) # Delta Degrees of Freedom (ddof) adjusts the divisor used in variance or standard deviation calculations\n",
    "                                        # Default is 0 if not specified, which provides the population statistics. Setting ddof=1 provides sample statistics.\n",
    "print('std x, y:', x.std(ddof=1), y.std(ddof=1))\n",
    "\n",
    "# Covariance matrix\n",
    "cov_mat = np.cov(x, y, ddof=1) # np.cov computes the covariance matrix of the input data x and y\n",
    "print('\\nCovariance matrix:\\n', cov_mat)\n",
    "print('\\nCov(x,y)=', cov_mat[0,1])"
   ]
  },
  {
   "cell_type": "markdown",
   "id": "9c1fcdc1",
   "metadata": {},
   "source": [
    "## Sampling from Distributions\n",
    "\n",
    "Here, we'll show how to draw samples from Bernoulli, Binomial, Geometric, Poisson, and Gaussian distributions and also how to obtain pmf values using SciPy\n",
    "\n",
    "(Numpy contains the APIs to help you simulate these distributions)"
   ]
  },
  {
   "cell_type": "code",
   "execution_count": 5,
   "id": "7cf98f71",
   "metadata": {},
   "outputs": [
    {
     "name": "stdout",
     "output_type": "stream",
     "text": [
      "Bernoulli samples (n=27, p=0.3): [0 0 1 0 1 0 1 1 0 0 0 0 0 0 1 0 0 1 0 0 0 0 1 0 1 0 0]\n",
      "\n",
      "Binomial mean (empirical): 3.980266403552047 theoretical: 4.0\n",
      "\n",
      "Geometric mean (empirical): 4.926492353231376 theoretical: 5.0\n",
      "\n",
      "Poisson mean (empirical): 2.9699062654168724 theoretical: 3\n",
      "\n",
      "Normal mean (empirical): -0.028551618901995795 std (empirical): 1.9943880444243383\n",
      "\n",
      "Poisson PMF k=0..9: [0.04978707 0.14936121 0.22404181 0.22404181 0.16803136 0.10081881\n",
      " 0.05040941 0.02160403 0.00810151 0.0027005 ]\n",
      "\n",
      "Normal PDF samples: [0.00221592 0.00876415 0.02699548 0.0647588  0.12098536 0.17603266\n",
      " 0.19947114 0.17603266 0.12098536 0.0647588  0.02699548 0.00876415\n",
      " 0.00221592]\n"
     ]
    }
   ],
   "source": [
    "import numpy as np\n",
    "from scipy import stats\n",
    "\n",
    "# Bernoulli via binomial(n=1)\n",
    "bern = np.random.binomial(n=1, p=0.3, size=27)\n",
    "print('Bernoulli samples (n=27, p=0.3):', bern)\n",
    "\n",
    "# Binomial: number of successes in n trials\n",
    "binom = np.random.binomial(n=10, p=0.4, size=2027)\n",
    "print('\\nBinomial mean (empirical):', binom.mean(), 'theoretical:', 10*0.4) # Mean of binomial is n*p\n",
    "\n",
    "# Geometric (NumPy returns number of trials until success)\n",
    "geom = np.random.geometric(p=0.2, size=2027)\n",
    "print('\\nGeometric mean (empirical):', geom.mean(), 'theoretical:', 1/0.2) # Mean of geometric is 1/p   \n",
    "\n",
    "# Poisson: counts in fixed interval\n",
    "pois = np.random.poisson(lam=3, size=2027)\n",
    "print('\\nPoisson mean (empirical):', pois.mean(), 'theoretical:', 3) # Mean of a Poisson is lambda\n",
    "\n",
    "# Gaussian / Normal distribution\n",
    "gauss = np.random.normal(loc=0, scale=2, size=2027)\n",
    "print('\\nNormal mean (empirical):', gauss.mean(), 'std (empirical):', gauss.std()) # Mean and std of normal are loc and scale\n",
    "\n",
    "\n",
    "# Using scipy to get pmf/pmf-values for discrete distributions\n",
    "k = np.arange(0, 10) # k values from 0 to 9\n",
    "poisson_pmf = stats.poisson(mu=3).pmf(k) # pmf values for Poisson with mean 3 at k=0..9\n",
    "print('\\nPoisson PMF k=0..9:', poisson_pmf)\n",
    "\n",
    "# Using scipy for normal pdf\n",
    "x = np.linspace(-6,6,13) # x values from -6 to 6\n",
    "normal_pdf = stats.norm(loc=0, scale=2).pdf(x) # pdf values for Normal with mean 0 and std 2 at x\n",
    "print('\\nNormal PDF samples:', normal_pdf)"
   ]
  },
  {
   "cell_type": "markdown",
   "id": "40a58e28",
   "metadata": {},
   "source": [
    "## Visualization with Matplotlib\n",
    "Matplotlib is that tool you can use for data visualization (plots, graphs). Here we'll visualize distributions, plot histograms and an example random walk time series.\n",
    "\n",
    "(You can learn more about Matplotlib here - https://matplotlib.org/stable/index.html)"
   ]
  },
  {
   "cell_type": "code",
   "execution_count": 6,
   "id": "e2d776ab",
   "metadata": {},
   "outputs": [
    {
     "data": {
      "image/png": "[encoded data removed]",
      "text/plain": [
       "<Figure size 640x480 with 1 Axes>"
      ]
     },
     "metadata": {},
     "output_type": "display_data"
    },
    {
     "data": {
      "image/png": "[encoded data removed]",
      "text/plain": [
       "<Figure size 640x480 with 1 Axes>"
      ]
     },
     "metadata": {},
     "output_type": "display_data"
    },
    {
     "data": {
      "image/png": "[encoded data removed]",
      "text/plain": [
       "<Figure size 640x480 with 1 Axes>"
      ]
     },
     "metadata": {},
     "output_type": "display_data"
    }
   ],
   "source": [
    "import matplotlib.pyplot as plt\n",
    "\n",
    "\n",
    " # ---- Lets use the distributions we created earlier to visualize them ----\n",
    "# Histogram of Binomial samples\n",
    "plt.figure()\n",
    "plt.hist(binom, bins=range(0,12))\n",
    "plt.title('Histogram: Binomial(n=10, p=0.4)')\n",
    "plt.xlabel('Number of successes')\n",
    "plt.ylabel('Frequency')\n",
    "plt.show()\n",
    "\n",
    "# Histogram of Normal samples\n",
    "plt.figure()\n",
    "plt.hist(gauss, bins=30)\n",
    "plt.title('Histogram: Normal(0,2)')\n",
    "plt.xlabel('Value')\n",
    "plt.ylabel('Frequency')\n",
    "plt.show()\n",
    "\n",
    "# A symmetric random walk using Bernoulli steps (+1, -1) - Walks with equal probability of right/left at each step\n",
    "steps = np.where(np.random.rand(200) < 0.5, -1, 1)\n",
    "walk = np.cumsum(steps)\n",
    "plt.figure()\n",
    "plt.plot(walk)\n",
    "plt.title('A Symmetric Random Walk with 200 Steps')\n",
    "plt.xlabel('Step')\n",
    "plt.ylabel('Position')\n",
    "plt.show()"
   ]
  },
  {
   "cell_type": "markdown",
   "id": "83ec351a",
   "metadata": {},
   "source": [
    "## Interpolation with SciPy\n",
    "_(You may skip for now)_\n",
    "\n",
    "While modelling stochastic you may have sparse data, interpolation helps estimate intermediate values\n",
    "\n",
    "(You can learn more about Scipy here - https://docs.scipy.org/doc/scipy/)"
   ]
  },
  {
   "cell_type": "code",
   "execution_count": 7,
   "id": "d799c196",
   "metadata": {},
   "outputs": [
    {
     "data": {
      "image/png": "[encoded data removed]",
      "text/plain": [
       "<Figure size 640x480 with 1 Axes>"
      ]
     },
     "metadata": {},
     "output_type": "display_data"
    }
   ],
   "source": [
    "import numpy as np\n",
    "from scipy.interpolate import interp1d\n",
    "\n",
    "# Sparse observations of a process\n",
    "times = np.array([0, 1, 3, 4, 7])\n",
    "values = np.array([0.0, 0.8, 0.1, -0.2, 0.5])\n",
    "\n",
    "# Create linear and cubic interpolants\n",
    "linear = interp1d(times, values, kind='linear')\n",
    "cubic = interp1d(times, values, kind='cubic')\n",
    "\n",
    "fine_t = np.linspace(times.min(), times.max(), 100)\n",
    "linear_vals = linear(fine_t)\n",
    "cubic_vals = cubic(fine_t)\n",
    "\n",
    "# Plot the interpolants\n",
    "import matplotlib.pyplot as plt\n",
    "plt.figure()\n",
    "plt.plot(times, values, 'o')\n",
    "plt.plot(fine_t, linear_vals)\n",
    "plt.plot(fine_t, cubic_vals)\n",
    "plt.title('Interpolation (linear vs cubic)')\n",
    "plt.xlabel('time')\n",
    "plt.ylabel('value')\n",
    "plt.show()"
   ]
  },
  {
   "cell_type": "code",
   "execution_count": 30,
   "id": "e47bb9e1",
   "metadata": {},
   "outputs": [],
   "source": [
    "def calculating_Lq(arrival_times, service_start_times):\n",
    "    def separate_by_intervals(times_array, interval_size=5):\n",
    "        separated_arrays = []\n",
    "        current_array = []\n",
    "        current_interval_limit = interval_size\n",
    "\n",
    "        for time in times_array:\n",
    "            if time > current_interval_limit:\n",
    "                # If the time exceeds the interval, save the current group\n",
    "                separated_arrays.append(np.array(current_array))\n",
    "                # Start a new group and move to the next interval\n",
    "                current_array = [time]\n",
    "                current_interval_limit += interval_size\n",
    "            else:\n",
    "                # Add the time to the current group\n",
    "                current_array.append(time)\n",
    "\n",
    "        # Add any remaining times to the list\n",
    "        if current_array:\n",
    "            separated_arrays.append(np.array(current_array))\n",
    "            \n",
    "        return separated_arrays\n",
    "    \n",
    "    separated_arrival_times = separate_by_intervals(arrival_times)\n",
    "    separated_service_start_times = separate_by_intervals(service_start_times)\n",
    "\n",
    "    queue_size_by_interval = []\n",
    "    current_queue_count = 0\n",
    "\n",
    "    # Loop through the intervals to calculate the queue size\n",
    "    # We assume both lists have the same number of intervals\n",
    "    for i in range(len(separated_arrival_times)):\n",
    "        arrivals_in_interval = len(separated_arrival_times[i])\n",
    "        departures_in_interval = len(separated_service_start_times[i])\n",
    "\n",
    "        # Calculate the change in queue size for this interval\n",
    "        change_in_queue = arrivals_in_interval - departures_in_interval\n",
    "\n",
    "        # Update the running total\n",
    "        current_queue_count += change_in_queue\n",
    "\n",
    "        # Store the result for this interval\n",
    "        queue_size_by_interval.append(current_queue_count)\n",
    "\n",
    "        # print(f\"Interval {i*20}s - { (i+1)*20}s: \")\n",
    "        # print(f\"  Arrivals: {arrivals_in_interval}\")\n",
    "        # print(f\"  Departures: {departures_in_interval}\")\n",
    "        # print(f\"  Queue Size: {current_queue_count}\")\n",
    "        # print(\"-\" * 30)\n",
    "\n",
    "    total_queue_length = sum(queue_size_by_interval)\n",
    "\n",
    "    # Get the total number of intervals\n",
    "    number_of_intervals = len(queue_size_by_interval)\n",
    "\n",
    "    # Calculate the average queue length\n",
    "    average_queue_length = total_queue_length / number_of_intervals\n",
    "    \n",
    "    return average_queue_length"
   ]
  },
  {
   "cell_type": "code",
   "execution_count": 31,
   "id": "b95338f2",
   "metadata": {},
   "outputs": [
    {
     "name": "stdout",
     "output_type": "stream",
     "text": [
      "Average Queue Length (Lq): 1.224662162162162\n"
     ]
    }
   ],
   "source": [
    "import numpy as np\n",
    "\n",
    "# Original code to generate arrival times\n",
    "np.random.seed(0)\n",
    "slots = 2000\n",
    "lam = 0.7\n",
    "interarrival_times = np.random.exponential(1/lam, size=slots)\n",
    "# interarrival_times = np.random.uniform(0, 2/lam, size=slots)\n",
    "arrival_times = np.cumsum(interarrival_times)\n",
    "\n",
    "mu = 1\n",
    "serviceDurations = np.random.exponential(1/mu, slots) # Service times are exponentially distributed with mean 1/mu\n",
    "\n",
    "service_start_times = np.empty(slots)\n",
    "departure_times = np.empty(slots)\n",
    "waiting_times = np.empty(slots)\n",
    "system_times = np.empty(slots)\n",
    "\n",
    "\n",
    "\n",
    "for i in range(slots):\n",
    "    if i == 0: # First customer (first arrival) - They are served immediately upon arrival (no waiting time)\n",
    "        service_start_times[i] = arrival_times[i]\n",
    "        departure_times[i] = service_start_times[i] + serviceDurations[i]\n",
    "    else:\n",
    "        service_start_times[i] = max(arrival_times[i], departure_times[i-1])\n",
    "        departure_times[i] = service_start_times[i] + serviceDurations[i]\n",
    "    \n",
    "    waiting_times[i] = service_start_times[i] - arrival_times[i]\n",
    "    system_times[i] = departure_times[i] - arrival_times[i]\n",
    "\n",
    "\n",
    "# Lists to hold the separated arrays\n",
    "\n",
    "# Loop through all arrival times and separate them\n",
    "average_queue_length = calculating_Lq(arrival_times, service_start_times)\n",
    "print(f'Average Queue Length (Lq): {average_queue_length}')"
   ]
  },
  {
   "cell_type": "markdown",
   "id": "ebd05e10",
   "metadata": {},
   "source": [
    "### Timing simulations and performance of Numpy and basic Python computation times\n",
    "\n",
    "Use `time` to measure how long simulations take. NumPy vectorized code is much faster than Python loops for large arrays."
   ]
  },
  {
   "cell_type": "code",
   "execution_count": 11,
   "id": "035a5b5c",
   "metadata": {},
   "outputs": [
    {
     "name": "stdout",
     "output_type": "stream",
     "text": [
      "Timer started. Press Ctrl+C to stop.\n",
      "[ 1.59174902  4.10361054  5.95005683  7.52445914  8.62655612 10.70287471\n",
      " 11.85391311 16.30096193 22.9307863  23.8979905 ]\n",
      "[ 1.59174902  4.10361054  5.95005683  7.52445914 10.12271329 10.70287471\n",
      " 11.85391311 16.30096193 22.9307863  24.43657053]\n"
     ]
    }
   ],
   "source": [
    "import time\n",
    "\n",
    "# Record the start time\n",
    "start_time = time.time()\n",
    "print(\"Timer started. Press Ctrl+C to stop.\")\n",
    "\n",
    "# elapsed_time = (time.time() - start_time)*10\n",
    "\n",
    "np.random.seed(0)\n",
    "slots = 10 # Number of slots = number of arrivals (customers)\n",
    "\n",
    "lam = 0.5 \n",
    "interarrival_times = np.random.exponential(1/lam, size=slots)\n",
    "arrival_times = np.cumsum(interarrival_times)\n",
    "\n",
    "mu = 1\n",
    "serviceDurations = np.random.exponential(1/mu, slots)\n",
    "\n",
    "queue = []\n",
    "arrival_time = np.cumsum(interarrival_times)\n",
    "service_start_times = np.empty(slots)\n",
    "departure_times = np.empty(slots)\n",
    "waiting_times = np.empty(slots)\n",
    "system_times = np.empty(slots)\n",
    "\n",
    "queue = []\n",
    "\n",
    "for i in range(slots):\n",
    "    if i == 0: # First customer (first arrival) - They are served immediately upon arrival (no waiting time)\n",
    "        service_start_times[i] = arrival_times[i]\n",
    "        departure_times[i] = service_start_times[i] + serviceDurations[i]\n",
    "    else:\n",
    "        service_start_times[i] = max(arrival_times[i], departure_times[i-1])\n",
    "        departure_times[i] = service_start_times[i] + serviceDurations[i]\n",
    "    \n",
    "    waiting_times[i] = service_start_times[i] - arrival_times[i]\n",
    "    system_times[i] = departure_times[i] - arrival_times[i]# Example arrival times\n",
    "\n",
    "queue_length = [(0,0)]\n",
    "\n",
    "print(arrival_time)\n",
    "print(service_start_times)\n",
    "\n",
    "# while len(arrival_time) > 0 and len(departure_times) > 0: \n",
    "#     # Calculate the elapsed time\n",
    "#     elapsed_time = (time.time() - start_time)*10\n",
    "    \n",
    "#     if elapsed_time >= arrival_time[0]:\n",
    "#         queue.append(np.delete(arrival_time, 0))\n",
    "#         print(f\"\\nNew arrival at time {elapsed_time:.2f} seconds. Queue length: {len(queue)}\")\n",
    "    \n",
    "#     if elapsed_time >= departure_times[0] and len(queue) > 0:\n",
    "#         queue.pop(0)\n",
    "#         np.delete(departure_times, 0)\n",
    "#         print(f\"\\nDeparture at time {elapsed_time:.2f} seconds. Queue length: {len(queue)}\")\n",
    "    \n",
    "#     if int(elapsed_time) % 5 == 0: # Record queue length every 5 seconds\n",
    "#         if int(elapsed_time) == int(queue_length[-1][0]):\n",
    "#             continue\n",
    "#         else:\n",
    "#             queue_length.append((elapsed_time, len(queue)))      \n",
    "#     # The 'end' and 'flush' arguments update the same line in the console\n",
    "#     print(f\"Time elapsed: {elapsed_time:.2f} seconds\", end='\\r', flush=True)\n",
    "    \n",
    "#     # Pause for a short duration to control the update speed\n",
    "#     # time.sleep(0.01)\n",
    "\n",
    "# print(queue_length)"
   ]
  },
  {
   "cell_type": "code",
   "execution_count": 9,
   "id": "7658b949",
   "metadata": {},
   "outputs": [
    {
     "name": "stdout",
     "output_type": "stream",
     "text": [
      "Simulated timer started. Press Ctrl+C to stop.\n",
      "Simulated time elapsed: 3189.05 seconds\n",
      "Simulated timer stopped. Total simulated time: 3190.19 seconds\n",
      "Real time passed: 31.90 seconds\n"
     ]
    }
   ],
   "source": [
    "import time\n",
    "\n",
    "speed_factor = 100 # Change this to your desired speed\n",
    "\n",
    "# Record the start time\n",
    "start_time = time.time()\n",
    "print(\"Simulated timer started. Press Ctrl+C to stop.\")\n",
    "\n",
    "try:\n",
    "    # Use a loop to continuously print the elapsed time\n",
    "    while True:\n",
    "        # Calculate the real elapsed time\n",
    "        real_elapsed_time = time.time() - start_time\n",
    "        \n",
    "        # Calculate the simulated elapsed time by multiplying\n",
    "        simulated_elapsed_time = real_elapsed_time * speed_factor\n",
    "\n",
    "        # Print the current simulated count\n",
    "        print(f\"Simulated time elapsed: {simulated_elapsed_time:.2f} seconds\", end='\\r', flush=True)\n",
    "\n",
    "        # Pause the loop for a very short duration to control the update speed\n",
    "        time.sleep(0.01)\n",
    "\n",
    "except KeyboardInterrupt:\n",
    "    # This block runs when you press Ctrl+C to stop the script\n",
    "    real_elapsed_time = time.time() - start_time\n",
    "    simulated_elapsed_time = real_elapsed_time * speed_factor\n",
    "    print(f\"\\nSimulated timer stopped. Total simulated time: {simulated_elapsed_time:.2f} seconds\")\n",
    "    print(f\"Real time passed: {real_elapsed_time:.2f} seconds\")"
   ]
  },
  {
   "cell_type": "code",
   "execution_count": null,
   "id": "7732a953",
   "metadata": {},
   "outputs": [
    {
     "name": "stdout",
     "output_type": "stream",
     "text": [
      "NumPy vectorized sum time: 0.002954721450805664\n",
      "Python loop sum time: 0.043984413146972656\n"
     ]
    }
   ],
   "source": [
    "import time\n",
    "\n",
    "N = 200_000\n",
    "\n",
    "# Time vectorized NumPy operation\n",
    "start = time.time()\n",
    "arr = np.random.rand(N)\n",
    "s = arr.sum()\n",
    "end = time.time()\n",
    "print('NumPy vectorized sum time:', end-start)\n",
    "\n",
    "# Time Python loop (slower)\n",
    "start = time.time()\n",
    "arr2 = [random.random() for _ in range(N)]\n",
    "s2 = 0\n",
    "for v in arr2:\n",
    "    s2 += v\n",
    "end = time.time()\n",
    "print('Python loop sum time:', end-start)"
   ]
  },
  {
   "cell_type": "markdown",
   "id": "ef0663bc",
   "metadata": {},
   "source": [
    "## Handson simulations\n",
    "\n",
    "1. **Simulate arrival counts** for an M/M/1-like system using Poisson arrivals and exponential service times.\n",
    "2. **Estimate sample autocorrelation** of a random walk (Needed for Markov processes/ Markov Chains)\n"
   ]
  },
  {
   "cell_type": "code",
   "execution_count": null,
   "id": "99d0a5b1",
   "metadata": {},
   "outputs": [
    {
     "name": "stdout",
     "output_type": "stream",
     "text": [
      "Total arrivals: 2542\n",
      "Mean arrivals per slot (empirical): 2.542\n"
     ]
    }
   ],
   "source": [
    "# 1) Poisson arrivals per time-slot, simple summary\n",
    "np.random.seed(0)\n",
    "slots = 1000\n",
    "arrivals = np.random.poisson(lam=2.5, size=slots)\n",
    "print('Total arrivals:', arrivals.sum())\n",
    "print('Mean arrivals per slot (empirical):', arrivals.mean())\n"
   ]
  },
  {
   "cell_type": "code",
   "execution_count": null,
   "id": "dce9e050",
   "metadata": {},
   "outputs": [
    {
     "name": "stdout",
     "output_type": "stream",
     "text": [
      "Lag-1 autocorrelation of increments: -0.029023091608256495\n"
     ]
    }
   ],
   "source": [
    "# 2) Sample autocorrelation for random walk increments\n",
    "increments = np.where(np.random.rand(1000) < 0.5, -1, 1)\n",
    "walk = np.cumsum(increments)\n",
    "\n",
    "# compute lag-1 autocorrelation of increments\n",
    "inc_mean = increments.mean()\n",
    "autocov = np.mean((increments[:-1]-inc_mean)*(increments[1:]-inc_mean))\n",
    "autocorr = autocov / np.var(increments, ddof=0)\n",
    "print('Lag-1 autocorrelation of increments:', autocorr)"
   ]
  }
 ],
 "metadata": {
  "kernelspec": {
   "display_name": "Python 3",
   "language": "python",
   "name": "python3"
  },
  "language_info": {
   "codemirror_mode": {
    "name": "ipython",
    "version": 3
   },
   "file_extension": ".py",
   "mimetype": "text/x-python",
   "name": "python",
   "nbconvert_exporter": "python",
   "pygments_lexer": "ipython3",
   "version": "3.13.7"
  }
 },
 "nbformat": 4,
 "nbformat_minor": 5
}
