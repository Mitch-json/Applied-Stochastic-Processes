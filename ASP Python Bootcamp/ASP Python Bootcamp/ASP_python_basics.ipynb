{
 "cells": [
  {
   "cell_type": "markdown",
   "id": "6772a534",
   "metadata": {},
   "source": [
    "# Stochastic Processes with Python: The Basics"
   ]
  },
  {
   "cell_type": "markdown",
   "id": "decb4708",
   "metadata": {},
   "source": [
    "## Introduction\n",
    "In this starter notebook, we cover the topics below:\n",
    "- **Data types**: int, float, bool\n",
    "- **Data structures**: lists, tuples, dicts to store experiment values\n",
    "- **Conditionals**: if/else statements to check if a condition is met\n",
    "- **Loops**: Help repeat random experiments\n",
    "- **Functions**: Takes an input, perform some operation and return outputs\n",
    "- **NumPy arrays**: Helpful for efficient simulation & statistics\n",
    "\n"
   ]
  },
  {
   "cell_type": "markdown",
   "id": "571b1ef0",
   "metadata": {},
   "source": [
    "## Section 1: Data Types\n",
    "We often need variables to store values, the type of these variables tell us what kind of value to be stored\n",
    "(Python is not strict on types, meaning you don't need to predefine the data type of a variable, it is dynamic)\n",
    "- **Integers** are whole numbers, positive or negetive and useful for counts (e.g., storing number of trials in an experiment)\n",
    "- **Floats** Useful for probabilities\n",
    "- **Booleans** Help control binary outcomes, useful for logical conditions\n"
   ]
  },
  {
   "cell_type": "code",
   "execution_count": 7,
   "id": "904e6bc5",
   "metadata": {},
   "outputs": [
    {
     "name": "stdout",
     "output_type": "stream",
     "text": [
      "Trials: 10\n",
      "Probability of success: 0.35\n",
      "Markov Property satisfied? True\n",
      "Probability of failure: 0.65\n",
      "Expected successes in 10 trials: 3.5\n"
     ]
    }
   ],
   "source": [
    "n = 10          # Integer\n",
    "p = 0.35      # Float\n",
    "is_markov = True    # Boolean\n",
    "\n",
    "print(\"Trials:\", n)\n",
    "print(\"Probability of success:\", p)\n",
    "print(\"Markov Property satisfied?\", is_markov)\n",
    "\n",
    "# Using floats in probability calculation\n",
    "q = 1 - p # Probability of failure\n",
    "print(\"Probability of failure:\", q)\n",
    "\n",
    "# Mixing types in a stochastic statement\n",
    "expected_successes = n * p\n",
    "print(f\"Expected successes in {n} trials: {expected_successes}\")"
   ]
  },
  {
   "cell_type": "markdown",
   "id": "237c7504",
   "metadata": {},
   "source": [
    "## Section 2: Data Structures (Lists, Tuples, Dictionaries)\n",
    "- **Lists**: Help store multiple outcomes, flexible and mutable\n",
    "- **Tuples**: They are Immutable, often represent fixed states\n",
    "- **Dictionaries**: Useful for probability distributions or mappings between states and probabilities"
   ]
  },
  {
   "cell_type": "code",
   "execution_count": 8,
   "id": "90e851fb",
   "metadata": {},
   "outputs": [
    {
     "name": "stdout",
     "output_type": "stream",
     "text": [
      "Outcomes: ['H', 'T', 'H', 'H', 'T', 'H', 'T', 'T', 'H', 'H']\n",
      "First outcome: H\n",
      "Last outcome: H\n",
      "State: (2, -1)\n",
      "Probability Distribution: {'H': 0.7, 'T': 0.3}\n",
      "P(H) = 0.7\n"
     ]
    }
   ],
   "source": [
    "# Example: Outcomes of 10 coin flips \n",
    "outcomes = [\"H\", \"T\", \"H\", \"H\", \"T\", \"H\", \"T\", \"T\", \"H\", \"H\"] # List of outcomes\n",
    "print(\"Outcomes:\", outcomes)\n",
    "\n",
    "# Accessing elements in a list\n",
    "print(\"First outcome:\", outcomes[0])\n",
    "print(\"Last outcome:\", outcomes[-1])\n",
    "\n",
    "# Tuple representing a 2D random walk state (x,y)\n",
    "state = (2, -1)\n",
    "print(\"State:\", state)\n",
    "\n",
    "# Dictionary as a probability distribution for a biased coin\n",
    "prob_dist = {\"H\": 0.7, \"T\": 0.3} # Dictionary of outcomes and their probabilities\n",
    "print(\"Probability Distribution:\", prob_dist)\n",
    "\n",
    "# Access probability of heads\n",
    "print(f\"P(H) = {prob_dist['H']}\")"
   ]
  },
  {
   "cell_type": "markdown",
   "id": "9136af35",
   "metadata": {},
   "source": [
    "## Section 3: Conditional Statements\n",
    "Conditionals help us reason about random outcomes, they help us make decision provided a certain condition is satisfied or not. They can help us classify outcomes as likely/unlikely, success/failure, and so on.\n",
    "\n",
    "(if...else statements)"
   ]
  },
  {
   "cell_type": "code",
   "execution_count": 9,
   "id": "0c9b3119",
   "metadata": {},
   "outputs": [
    {
     "name": "stdout",
     "output_type": "stream",
     "text": [
      "Event is likely\n",
      "Probabilistic event\n"
     ]
    }
   ],
   "source": [
    "p = 0.6  # probability of an event\n",
    "if p > 0.5:\n",
    "    print(\"Event is likely\")\n",
    "else:\n",
    "    print(\"Event is unlikely\")\n",
    "\n",
    "# Using conditionals for classification of probabilities\n",
    "if p == 0:\n",
    "    print(\"Impossible event\")\n",
    "elif p == 1:\n",
    "    print(\"Certain event\")\n",
    "else:\n",
    "    print(\"Probabilistic event\")"
   ]
  },
  {
   "cell_type": "markdown",
   "id": "6ac3f8ad",
   "metadata": {},
   "source": [
    "## Section 4: Loops\n",
    "Loops allow us to **simulate repeated random trials**. For example, simulating coin flips or dice rolls within a number of trials/experiments\n",
    "\n",
    "(for loop)"
   ]
  },
  {
   "cell_type": "code",
   "execution_count": 10,
   "id": "85100e16",
   "metadata": {},
   "outputs": [
    {
     "name": "stdout",
     "output_type": "stream",
     "text": [
      "Heads: 7, Tails: 13\n",
      "All die roll outcomes: [5, 5, 2, 2, 1, 1, 4, 3, 4, 1, 5, 1, 6, 4, 5]\n",
      "First roll: 5\n",
      "Last roll: 5\n"
     ]
    }
   ],
   "source": [
    "import random\n",
    "\n",
    "# Simulate 20 coin flips and count heads and tails\n",
    "trials = 20\n",
    "heads, tails = 0, 0\n",
    "for i in range(trials):\n",
    "    if random.random() < 0.5:  # probability 0.5 for heads\n",
    "        heads += 1\n",
    "    else:\n",
    "        tails += 1\n",
    "print(f\"Heads: {heads}, Tails: {tails}\")\n",
    "\n",
    "# Simulate rolling a die 15 times\n",
    "results = []\n",
    "for i in range(15):\n",
    "    results.append(random.randint(1, 6))\n",
    "print(\"All die roll outcomes:\", results)\n",
    "# Outcome of the first roll:\n",
    "print(\"First roll:\", results[0])\n",
    "# Outcome of the last roll:\n",
    "print(\"Last roll:\", results[-1])"
   ]
  },
  {
   "cell_type": "markdown",
   "id": "5b63892f",
   "metadata": {},
   "source": [
    "## Section 5: Functional Programming\n",
    "Functions let us encapsulate a logic. They allow us to model events, they can take inputs or arguments, process them and return a value or nothing. For example, simulating a **Bernoulli trial** or repeated Binomial experiment.\n",
    "\n",
    "(You can declare, define and call a function)"
   ]
  },
  {
   "cell_type": "code",
   "execution_count": 11,
   "id": "91528330",
   "metadata": {},
   "outputs": [
    {
     "name": "stdout",
     "output_type": "stream",
     "text": [
      "Student Marks: {'Alice': 85}\n",
      "Bernoulli Trials: [1, 1, 0, 0, 0, 0, 0, 0, 0, 0, 0, 0, 1, 0, 0, 0, 1, 0, 0, 1]\n",
      "30 Trials with p=0.4: [0, 0, 0, 0, 1, 0, 0, 1, 0, 0, 1, 0, 0, 0, 0, 0, 0, 0, 0, 1, 0, 0, 0, 0, 0, 0, 1, 1, 0, 1]\n",
      "30 Binomial Experiments (n=10, p=0.4): [6, 5, 7, 6, 2, 3, 4, 5, 5, 4, 3, 2, 3, 2, 2, 3, 5, 5, 5, 5, 4, 3, 1, 6, 4, 3, 3, 4, 4, 3]\n"
     ]
    }
   ],
   "source": [
    "# Function to store marks of a student in a dictionary\n",
    "def store_asp_marks(name, marks):\n",
    "    return {name: marks}\n",
    "\n",
    "student1 = store_asp_marks(\"Alice\", 85)\n",
    "print(\"Student Marks:\", student1)\n",
    "\n",
    "def bernoulli(p):\n",
    "    \"\"\"Perform a Bernoulli trial with success probability p.\"\"\"\n",
    "    return 1 if random.random() < p else 0\n",
    "\n",
    "# Simulate 20 Bernoulli trials with p=0.3\n",
    "results = [bernoulli(0.3) for _ in range(20)]\n",
    "print(\"Bernoulli Trials:\", results)\n",
    "\n",
    "# Function for n Bernoulli trials\n",
    "def bernoulli_trials(p, n):\n",
    "    return [bernoulli(p) for _ in range(n)]\n",
    "\n",
    "print(\"30 Trials with p=0.4:\", bernoulli_trials(0.4, 30))\n",
    "\n",
    "\n",
    "# Function to simulate a Binomial experiment\n",
    "def binomial_experiment(p, n, trials):\n",
    "    return [sum(bernoulli_trials(p, n)) for _ in range(trials)]\n",
    "\n",
    "# Simulate 30 Binomial experiments with n=10, p=0.4\n",
    "print(\"30 Binomial Experiments (n=10, p=0.4):\", binomial_experiment(0.4, 10, 30))"
   ]
  },
  {
   "cell_type": "markdown",
   "id": "a885789b",
   "metadata": {},
   "source": [
    "## Section 6: Arrays (with NumPy)\n",
    "NumPy arrays are efficient for **large-scale simulations**. They allow fast computations of statistics and is a very useful tool in probability.\n",
    "\n",
    "(We'll cover numpy on notebook 2)"
   ]
  },
  {
   "cell_type": "code",
   "execution_count": 12,
   "id": "b666e38b",
   "metadata": {},
   "outputs": [
    {
     "name": "stdout",
     "output_type": "stream",
     "text": [
      "First 20 flips: [1 1 1 0 0 1 1 1 1 0 1 0 1 0 0 1 1 0 0 1]\n",
      "Last 5 flips: [1 0 1 0 1]\n",
      "Proportion of heads: 0.6\n",
      "Proportion of tails: 0.4\n",
      "Outcome of first 5 dice rolls: [5 4 4 2 6]\n",
      "Dice outcome frequencies (using zip):\n",
      "2: 0.20\n",
      "4: 0.40\n",
      "5: 0.20\n",
      "6: 0.20\n"
     ]
    }
   ],
   "source": [
    "import numpy as np # import numpy library, commonly used for numerical computations, np is an alias\n",
    "\n",
    "# Example: simulate coin flips using numpy\n",
    "head = 1\n",
    "tail = 0\n",
    "coin_flips = np.random.choice([tail, head], size=25, p=[0.5, 0.5]) # 25 fair coin flips, \n",
    "            # np.random helps generate random samples from the experiment setup\n",
    "\n",
    "# Show the first 20 flips\n",
    "print(\"First 20 flips:\", coin_flips[:20])\n",
    "# Show the last 5 flips\n",
    "print(\"Last 5 flips:\", coin_flips[-5:])\n",
    "\n",
    "# Compute empirical probability of heads\n",
    "print(\"Proportion of heads:\", coin_flips.mean()) # .mean() computes the average value of the array/tuple\n",
    "# Compute empirical probability of tails\n",
    "print(\"Proportion of tails:\", 1 - coin_flips.mean())\n",
    "\n",
    "# Example: simulate 5 dice rolls\n",
    "rolls = np.random.randint(1, 7, size=5) # 5 rolls of a fair 6-sided die (1 <= outcome <= 6)\n",
    "print(\"Outcome of first 5 dice rolls:\", rolls[:5])\n",
    "\n",
    "# Probability distribution of dice outcomes\n",
    "\n",
    "\"\"\"\n",
    "The zip object yields n-length tuples, where n is the number of iterables\n",
    "passed as positional arguments to zip(). The i-th element in every tuple\n",
    "comes from the i-th iterable argument to zip(). This continues until the\n",
    "shortest argument is exhausted.\n",
    "\n",
    "\"\"\"\n",
    "\n",
    "\"\"\"\n",
    "np.unique(rolls, return_counts=True) returns two arrays:\n",
    "1. An array of the unique values in rolls (the distinct outcomes of the dice rolls).\n",
    "2. An array of the counts of each unique value (how many times each outcome occurred).\n",
    "\"\"\"\n",
    "print(\"Dice outcome frequencies (using zip):\")\n",
    "for roll, count in zip(*np.unique(rolls, return_counts=True)):\n",
    "    print(f\"{roll}: {count/5:.2f}\")\n"
   ]
  },
  {
   "cell_type": "markdown",
   "id": "a378e1f1",
   "metadata": {},
   "source": [
    "### _Exercise: Simulate a poisson process of cars arriving at a junction with rate λ=3 over time t=10. Make use of functional programming to model the poisson process, also visualize the results (plot number of cars arrived against time)_\n"
   ]
  },
  {
   "cell_type": "code",
   "execution_count": null,
   "id": "1424fe39",
   "metadata": {},
   "outputs": [
    {
     "name": "stdout",
     "output_type": "stream",
     "text": [
      "Number of cars arriving at each time unit: [3 1 2 2 1 1 5 9 1 4]\n"
     ]
    },
    {
     "data": {
      "image/png": "[encoded data removed]",
      "text/plain": [
       "<Figure size 640x480 with 1 Axes>"
      ]
     },
     "metadata": {},
     "output_type": "display_data"
    }
   ],
   "source": [
    "# Solution code:\n",
    "\n",
    "import numpy as np\n",
    "import matplotlib.pyplot as plt\n",
    "\n",
    "rate = 3  # cars per time unit\n",
    "time = 10  # total time\n",
    "# Function to simulate Poisson process\n",
    "def poisson_process(rate, time):\n",
    "    return np.random.poisson(rate, time)\n",
    "\n",
    "# Simulate the process\n",
    "arrivals = poisson_process(rate, time)\n",
    "print(\"Number of cars arriving at each time unit:\", arrivals)\n",
    "\n",
    "# Visualize the results\n",
    "plt.bar(range(time), arrivals)\n",
    "plt.xlabel(\"Time\")\n",
    "plt.ylabel(\"Number of Cars Arrived\")\n",
    "plt.title(\"Poisson Process: Car Arrivals at a Junction\")\n",
    "plt.show()\n"
   ]
  }
 ],
 "metadata": {
  "kernelspec": {
   "display_name": "Python 3",
   "language": "python",
   "name": "python3"
  },
  "language_info": {
   "codemirror_mode": {
    "name": "ipython",
    "version": 3
   },
   "file_extension": ".py",
   "mimetype": "text/x-python",
   "name": "python",
   "nbconvert_exporter": "python",
   "pygments_lexer": "ipython3",
   "version": "3.12.10"
  }
 },
 "nbformat": 4,
 "nbformat_minor": 5
}
